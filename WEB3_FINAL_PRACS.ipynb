{
  "nbformat": 4,
  "nbformat_minor": 0,
  "metadata": {
    "colab": {
      "provenance": [],
      "collapsed_sections": [],
      "include_colab_link": true
    },
    "kernelspec": {
      "name": "python3",
      "display_name": "Python 3"
    },
    "language_info": {
      "name": "python"
    }
  },
  "cells": [
    {
      "cell_type": "markdown",
      "metadata": {
        "id": "view-in-github",
        "colab_type": "text"
      },
      "source": [
        "<a href=\"https://colab.research.google.com/github/laranavalkar/alv_repo/blob/master/WEB3_FINAL_PRACS.ipynb\" target=\"_parent\"><img src=\"https://colab.research.google.com/assets/colab-badge.svg\" alt=\"Open In Colab\"/></a>"
      ]
    },
    {
      "cell_type": "markdown",
      "source": [
        "Practical 6\n",
        "\n",
        "Aim: Create a mining function and test it."
      ],
      "metadata": {
        "id": "8RdEQwWXR0Mp"
      }
    },
    {
      "cell_type": "code",
      "execution_count": null,
      "metadata": {
        "colab": {
          "base_uri": "https://localhost:8080/"
        },
        "id": "mZBaY4uAL5G3",
        "outputId": "50f06552-faa7-4837-8236-d2be80407bc5"
      },
      "outputs": [
        {
          "output_type": "stream",
          "name": "stdout",
          "text": [
            "Bitcoin mined with nonce value : 39308\n",
            "Hash value :  0000316d04926e1118906fbb9d02407968ccfa9ebfef8ba32ac4c767d0e6356d\n",
            "The mining process took  0.07823395729064941 seconds\n"
          ]
        }
      ],
      "source": [
        "from hashlib import sha256\n",
        "MAX_NONCE = 10000000        # You can also use a while loop to run infinitely with no upper limit\n",
        "def SHA256(text):\n",
        "  return sha256(text.encode(\"ascii\")).hexdigest()\n",
        "\n",
        "def mine(block_number, transaction, previous_hash, prefix_zeros):\n",
        "  prefix_str = '0'*prefix_zeros\n",
        "  for nonce in range(MAX_NONCE):\n",
        "    text = str(block_number) + transaction + previous_hash + str(nonce)\n",
        "    hash = SHA256(text)\n",
        "    # print(hash)\n",
        "    if hash.startswith(prefix_str):\n",
        "      print(\"Bitcoin mined with nonce value :\",nonce)\n",
        "      return hash\n",
        "  print(\"Could not find a hash in the given range of upto\", MAX_NONCE)\n",
        "\n",
        "transactions='''\n",
        "Anaa->Emma->10\n",
        "Zendaya->Lily->5\n",
        "'''\n",
        "\n",
        "difficulty = 4\n",
        "import time as t\n",
        "begin=t.time()\n",
        "new_hash = mine(684260,transactions,\"000000000000000000006bd3d6ef94d8a01de84e171d3553534783b128f06aad\",difficulty)\n",
        "print(\"Hash value : \",new_hash)\n",
        "time_taken=t.time()- begin\n",
        "print(\"The mining process took \",time_taken,\"seconds\")\n"
      ]
    },
    {
      "cell_type": "markdown",
      "source": [
        "practical 7\n",
        "\n",
        "Aim: add block to the miner and dump the blockchain"
      ],
      "metadata": {
        "id": "gIplSX5KRzgq"
      }
    },
    {
      "cell_type": "code",
      "source": [
        "import datetime\n",
        "import hashlib\n",
        "\n",
        "class Block:\n",
        "    blockNo = 0\n",
        "    data = None\n",
        "    next = None\n",
        "    hash = None\n",
        "    nonce = 0\n",
        "    previous_hash = 0x0\n",
        "    timestamp = datetime.datetime.now()\n",
        "\n",
        "    def __init__(self, data):\n",
        "        self.data = data\n",
        "\n",
        "    def hash(self):\n",
        "        h = hashlib.sha256()\n",
        "        h.update(\n",
        "        str(self.nonce).encode('utf-8') +\n",
        "        str(self.data).encode('utf-8') +\n",
        "        str(self.previous_hash).encode('utf-8') +\n",
        "        str(self.timestamp).encode('utf-8') +\n",
        "        str(self.blockNo).encode('utf-8')\n",
        "        )\n",
        "        return h.hexdigest()\n",
        "\n",
        "    def __str__(self):\n",
        "        return \"Block Hash: \" + str(self.hash()) + \"\\nBlockNo: \" + str(self.blockNo) + \"\\nBlock Data: \" + str(self.data) + \"\\nNonce: \" + str(self.nonce) + \"\\n--------------\"\n",
        "\n",
        "class Blockchain:\n",
        "\n",
        "    diff = 20\n",
        "    maxNonce = 2**32\n",
        "    target = 2 ** (256-diff)\n",
        "\n",
        "    block = Block(\"Genesis\")\n",
        "    dummy = head = block\n",
        "\n",
        "    def add(self, block):\n",
        "\n",
        "        block.previous_hash = self.block.hash()\n",
        "        block.blockNo = self.block.blockNo + 1\n",
        "\n",
        "        self.block.next = block\n",
        "        self.block = self.block.next\n",
        "\n",
        "    def mine(self, block):\n",
        "        for n in range(self.maxNonce):\n",
        "            if int(block.hash(), 16) <= self.target:\n",
        "                self.add(block)\n",
        "                print(block)\n",
        "                break\n",
        "            else:\n",
        "                block.nonce += 1\n",
        "\n",
        "blockchain = Blockchain()\n",
        "\n",
        "for n in range(10):\n",
        "    blockchain.mine(Block(\"Block \" + str(n+1)))\n",
        "\n",
        "while blockchain.head != None:\n",
        "    print(blockchain.head)\n",
        "    blockchain.head = blockchain.head.next"
      ],
      "metadata": {
        "colab": {
          "base_uri": "https://localhost:8080/"
        },
        "id": "nEbchp0SUeXB",
        "outputId": "30a01b73-8052-4901-bcd7-c20c7eca87d2"
      },
      "execution_count": null,
      "outputs": [
        {
          "output_type": "stream",
          "name": "stdout",
          "text": [
            "Block Hash: eb07ec56f88c2a86514f9cdf13dd2d73aea8f0d9f8dbe851f0579d50cabadad9\n",
            "BlockNo: 1\n",
            "Block Data: Block 1\n",
            "Nonce: 807678\n",
            "--------------\n",
            "Block Hash: 0f134a7a95f7bfc6cb4efe017f1e3ac628922a576db5738633aeb47534daa5f2\n",
            "BlockNo: 2\n",
            "Block Data: Block 2\n",
            "Nonce: 3230498\n",
            "--------------\n",
            "Block Hash: de3707823240eaf2b8f91ebddb84a7cf422cbd0b434c17b80455c4701821abbc\n",
            "BlockNo: 3\n",
            "Block Data: Block 3\n",
            "Nonce: 1460987\n",
            "--------------\n",
            "Block Hash: 01c9c0eeeeec56893bb58b4c8d3b734fc2c4608e1380c308a17807321ff4c27c\n",
            "BlockNo: 4\n",
            "Block Data: Block 4\n",
            "Nonce: 14886\n",
            "--------------\n",
            "Block Hash: 16a44efcb4398d535f663bd51a91fce548748930b9b5ea23fc82724a9fbdb7d4\n",
            "BlockNo: 5\n",
            "Block Data: Block 5\n",
            "Nonce: 1398566\n",
            "--------------\n",
            "Block Hash: efb49b45ee5ffa075c4a705488b39a4044ba5b52dbc6f4b6e38967a4555bbfb7\n",
            "BlockNo: 6\n",
            "Block Data: Block 6\n",
            "Nonce: 113226\n",
            "--------------\n",
            "Block Hash: 3da04439a38a382ef73dc1d7cf61910efa1ff03e0681f4c4bbecfa6607dc6ef8\n",
            "BlockNo: 7\n",
            "Block Data: Block 7\n",
            "Nonce: 86314\n",
            "--------------\n",
            "Block Hash: 16f912c7e54d836959f5c1c680565e20969e89292fb84db7e129788ea4ffa578\n",
            "BlockNo: 8\n",
            "Block Data: Block 8\n",
            "Nonce: 172976\n",
            "--------------\n",
            "Block Hash: 05d3d9d17409e5fe7022ae425b2d2e0e87b3253920628a588160f0bd9f70b503\n",
            "BlockNo: 9\n",
            "Block Data: Block 9\n",
            "Nonce: 212804\n",
            "--------------\n",
            "Block Hash: 8cecb32e009b521d0311dd6bcdd851539686aeedb2c4241543b1989888c80b98\n",
            "BlockNo: 10\n",
            "Block Data: Block 10\n",
            "Nonce: 501483\n",
            "--------------\n",
            "Block Hash: ec79e70a5df24590854f4737841d5b47ec05a02fbf6218d5bcbdeadf878589a1\n",
            "BlockNo: 0\n",
            "Block Data: Genesis\n",
            "Nonce: 0\n",
            "--------------\n",
            "Block Hash: eb07ec56f88c2a86514f9cdf13dd2d73aea8f0d9f8dbe851f0579d50cabadad9\n",
            "BlockNo: 1\n",
            "Block Data: Block 1\n",
            "Nonce: 807678\n",
            "--------------\n",
            "Block Hash: 0f134a7a95f7bfc6cb4efe017f1e3ac628922a576db5738633aeb47534daa5f2\n",
            "BlockNo: 2\n",
            "Block Data: Block 2\n",
            "Nonce: 3230498\n",
            "--------------\n",
            "Block Hash: de3707823240eaf2b8f91ebddb84a7cf422cbd0b434c17b80455c4701821abbc\n",
            "BlockNo: 3\n",
            "Block Data: Block 3\n",
            "Nonce: 1460987\n",
            "--------------\n",
            "Block Hash: 01c9c0eeeeec56893bb58b4c8d3b734fc2c4608e1380c308a17807321ff4c27c\n",
            "BlockNo: 4\n",
            "Block Data: Block 4\n",
            "Nonce: 14886\n",
            "--------------\n",
            "Block Hash: 16a44efcb4398d535f663bd51a91fce548748930b9b5ea23fc82724a9fbdb7d4\n",
            "BlockNo: 5\n",
            "Block Data: Block 5\n",
            "Nonce: 1398566\n",
            "--------------\n",
            "Block Hash: efb49b45ee5ffa075c4a705488b39a4044ba5b52dbc6f4b6e38967a4555bbfb7\n",
            "BlockNo: 6\n",
            "Block Data: Block 6\n",
            "Nonce: 113226\n",
            "--------------\n",
            "Block Hash: 3da04439a38a382ef73dc1d7cf61910efa1ff03e0681f4c4bbecfa6607dc6ef8\n",
            "BlockNo: 7\n",
            "Block Data: Block 7\n",
            "Nonce: 86314\n",
            "--------------\n",
            "Block Hash: 16f912c7e54d836959f5c1c680565e20969e89292fb84db7e129788ea4ffa578\n",
            "BlockNo: 8\n",
            "Block Data: Block 8\n",
            "Nonce: 172976\n",
            "--------------\n",
            "Block Hash: 05d3d9d17409e5fe7022ae425b2d2e0e87b3253920628a588160f0bd9f70b503\n",
            "BlockNo: 9\n",
            "Block Data: Block 9\n",
            "Nonce: 212804\n",
            "--------------\n",
            "Block Hash: 8cecb32e009b521d0311dd6bcdd851539686aeedb2c4241543b1989888c80b98\n",
            "BlockNo: 10\n",
            "Block Data: Block 10\n",
            "Nonce: 501483\n",
            "--------------\n"
          ]
        }
      ]
    },
    {
      "cell_type": "markdown",
      "source": [
        "Practical 2\n",
        "\n",
        "Aim: Design a simple client class that generates private and public keys using built-in RSA algorithm and test it."
      ],
      "metadata": {
        "id": "VSbuLSXza7XZ"
      }
    },
    {
      "cell_type": "code",
      "source": [
        "!pip install crypto\n",
        "!pip install pycryptodome\n",
        "\n",
        "import Crypto \n",
        "import binascii\n",
        "\n",
        "from Crypto.PublicKey import RSA\n",
        "from Crypto.Signature import PKCS1_v1_5\n",
        "\n",
        "class Client:\n",
        "   def __init__(self):\n",
        "      random = Crypto.Random.new().read\n",
        "      self._private_key = RSA.generate(1024, random)\n",
        "      self._public_key = self._private_key.publickey()\n",
        "      self._signer = PKCS1_v1_5.new(self._private_key)\n",
        "   @property\n",
        "   def identity(self):\n",
        "      return binascii.hexlify(self._public_key.exportKey(format='DER')).decode('ascii')\n",
        "\n",
        "ABC = Client()\n",
        "print(\"Printing the result of ABC.identity as follows....... \\n\",ABC.identity)"
      ],
      "metadata": {
        "colab": {
          "base_uri": "https://localhost:8080/"
        },
        "id": "Jp0opfJ9dyQx",
        "outputId": "b17222db-9558-42f0-a10e-592497364812"
      },
      "execution_count": null,
      "outputs": [
        {
          "output_type": "stream",
          "name": "stdout",
          "text": [
            "Looking in indexes: https://pypi.org/simple, https://us-python.pkg.dev/colab-wheels/public/simple/\n",
            "Collecting crypto\n",
            "  Downloading crypto-1.4.1-py2.py3-none-any.whl (18 kB)\n",
            "Collecting Naked\n",
            "  Downloading Naked-0.1.31-py2.py3-none-any.whl (590 kB)\n",
            "\u001b[K     |████████████████████████████████| 590 kB 14.8 MB/s \n",
            "\u001b[?25hCollecting shellescape\n",
            "  Downloading shellescape-3.8.1-py2.py3-none-any.whl (3.1 kB)\n",
            "Requirement already satisfied: requests in /usr/local/lib/python3.7/dist-packages (from Naked->crypto) (2.23.0)\n",
            "Requirement already satisfied: pyyaml in /usr/local/lib/python3.7/dist-packages (from Naked->crypto) (6.0)\n",
            "Requirement already satisfied: chardet<4,>=3.0.2 in /usr/local/lib/python3.7/dist-packages (from requests->Naked->crypto) (3.0.4)\n",
            "Requirement already satisfied: certifi>=2017.4.17 in /usr/local/lib/python3.7/dist-packages (from requests->Naked->crypto) (2022.9.24)\n",
            "Requirement already satisfied: idna<3,>=2.5 in /usr/local/lib/python3.7/dist-packages (from requests->Naked->crypto) (2.10)\n",
            "Requirement already satisfied: urllib3!=1.25.0,!=1.25.1,<1.26,>=1.21.1 in /usr/local/lib/python3.7/dist-packages (from requests->Naked->crypto) (1.24.3)\n",
            "Installing collected packages: shellescape, Naked, crypto\n",
            "Successfully installed Naked-0.1.31 crypto-1.4.1 shellescape-3.8.1\n",
            "Looking in indexes: https://pypi.org/simple, https://us-python.pkg.dev/colab-wheels/public/simple/\n",
            "Collecting pycryptodome\n",
            "  Downloading pycryptodome-3.15.0-cp35-abi3-manylinux2010_x86_64.whl (2.3 MB)\n",
            "\u001b[K     |████████████████████████████████| 2.3 MB 13.0 MB/s \n",
            "\u001b[?25hInstalling collected packages: pycryptodome\n",
            "Successfully installed pycryptodome-3.15.0\n",
            "Printing the result of ABC.identity as follows....... \n",
            " 30819f300d06092a864886f70d010101050003818d0030818902818100c0f291fd9c601e1c0f8a35048908c7875ce7d947a7a899235c3ab89e142912a371a8386f7450a79362440d7927dbb6031f3604ba5f4226962ca6fe8012d561232bfe5c96eef00a864c8556aaa55eb3c3728b1a977395a1854cf35e12a072e059d789eabdd9ac628fff43817f1b0f154e040285a5daeeda83389d50510b5d29c90203010001\n"
          ]
        }
      ]
    },
    {
      "cell_type": "markdown",
      "source": [
        "Practical 3\n",
        "\n",
        "Aim: Create a transaction class to send and receive money and test it.\n",
        "\n",
        "requirement: pract 2 ABC object."
      ],
      "metadata": {
        "id": "wt4pVZZDi-Jf"
      }
    },
    {
      "cell_type": "code",
      "source": [
        "import datetime\n",
        "import collections\n",
        "from Crypto.Hash import SHA\n",
        "\n",
        "class Transaction:\n",
        "    def __init__(self, sender,recipient, value):\n",
        "        self.sender=sender    # senders public key\n",
        "        self.recipient=recipient    #Recivers public key\n",
        "        self.value=value    # Amount to be sent\n",
        "        self.time=datetime.datetime.now()   # Time of Transaction\n",
        "        \n",
        " # Combine all 4 variables to a dictionary object       \n",
        "    def to_dict(self):\n",
        "        if self.sender==\"Genesis\":\n",
        "            identity=\"Genesis\"\n",
        "        else:\n",
        "            identity=self.sender.identity\n",
        "        # Construct the dictionary     \n",
        "        return collections.OrderedDict({'sender': identity,'recipient': self.recipient,'value': self.value,'time' : self.time})\n",
        "    \n",
        "    # We sign the dictionary object using the private key of the sender  \n",
        "    def sign_transaction(self):\n",
        "        private_key = self.sender._private_key\n",
        "        signer = PKCS1_v1_5.new(private_key)\n",
        "        h = SHA.new(str(self.to_dict()).encode('utf8'))   \n",
        "        return binascii.hexlify(signer.sign(h)).decode('ascii')\n",
        "        \n",
        "PQR = Client()\n",
        "t = Transaction(PQR, ABC.identity, 5.0)\n",
        "signature = t.sign_transaction()\n",
        "print(\"Signature of the money transaction done between (PQR) and  (ABC) is as follows.....\\n\",signature)"
      ],
      "metadata": {
        "colab": {
          "base_uri": "https://localhost:8080/"
        },
        "id": "3VDdzErXjRBQ",
        "outputId": "7a64c662-9130-435f-9b83-9501e6bf8c53"
      },
      "execution_count": null,
      "outputs": [
        {
          "output_type": "stream",
          "name": "stdout",
          "text": [
            "Signature of the money transaction done between (PQR) and  (ABC) is as follows.....\n",
            " 2e664772f9d41d19bc73db6e4d37d02afd269d9f2dede7e8a1f1b6bd2604e6aef8b119c2d865ab149f6015bc54dcb8b8b42a8f023078c8974819b0fe22cc02377acea5b25eaff0b7430d4220d81454f0f7b76862b987a02a8aace23feb39b9cbe49acad9cb8b81b1bbe5edf5a7472ba7548b285d0f1217c78f8896d06e3fc0c9\n"
          ]
        }
      ]
    },
    {
      "cell_type": "markdown",
      "source": [
        "Practical 4\n",
        "\n",
        "Aim: Create multiple transactions and display them.\n",
        "\n",
        "Requirement: pract 2 and pract 3"
      ],
      "metadata": {
        "id": "5D78EG_1nGxQ"
      }
    },
    {
      "cell_type": "code",
      "source": [
        "print(\"Adding more clients to perform multiple transaction.......\")\n",
        "Anaa = Client()\n",
        "Emma = Client()\n",
        "Zendaya = Client()\n",
        "Lily = Client()\n",
        "\n",
        "t1 = Transaction(Anaa,Emma.identity,15.0)\n",
        "signature = t1.sign_transaction()\n",
        "print(\"\\nSignature of the transaction done between Anaa(sender) and Emma(receiver) is as follows\\n\", signature)\n",
        "\n",
        "t2 = Transaction(Zendaya,Lily.identity,15.0)\n",
        "signature = t2.sign_transaction()\n",
        "print(\"\\nSignature of the transaction done between Zendaya(sender) and Lily(receiver) is as follows\\n\", signature)\n"
      ],
      "metadata": {
        "colab": {
          "base_uri": "https://localhost:8080/"
        },
        "id": "TJyEUI7ApcHo",
        "outputId": "4a613cae-e58f-4bc2-c157-b480459b6e5c"
      },
      "execution_count": null,
      "outputs": [
        {
          "output_type": "stream",
          "name": "stdout",
          "text": [
            "Adding more clients to perform multiple transaction.......\n",
            "\n",
            "Signature of the transaction done between Anaa(sender) and Emma(receiver) is as follows\n",
            " 75ab21477472a681bf97679bb2e1d6c2f4ea0d2a412a096edf32f1deb392ffa5061865e3d40d3eed9625be3925691a557f9b4e0293d10c03683578fdaefa19d96197d86cb18304c199c2b7059a8585c9a262623e6e6e04a3cc12527d5a05b9ba1bab34460d12f3f38d8d7cc483152bac16966a750c96df2963c81df8f2536af1\n",
            "\n",
            "Signature of the transaction done between Zendaya(sender) and Lily(receiver) is as follows\n",
            " 637639a26efee8c876b7474ecbca2640710d5823dbaecf3c174edd46f5cae89b466a0c9a5d4a4874a7a30df310fe6d9bdbcacdab5479982f49ef25aefbe3b94b251afb3ad2bc08acd690e73b2bee6811417cba80fa924f889e1a308d818500747f8e779f458951dc7e5dae775bcf3a5a6be0b99112f199a40ea6a6edd96fdb89\n"
          ]
        }
      ]
    },
    {
      "cell_type": "markdown",
      "source": [
        "pract 5 \n",
        "\n",
        "Aim: Create A Blockchain, A Genesis Block And Execute It"
      ],
      "metadata": {
        "id": "VyAcQEkkXNr1"
      }
    },
    {
      "cell_type": "code",
      "source": [
        "import hashlib\n",
        "import datetime\n",
        "\n",
        "class Block:\n",
        "    def __init__(self, previous_block_hash, data, timestamp):\n",
        "        self.previous_block_hash = previous_block_hash\n",
        "        self.data = data\n",
        "        self.timestamp = timestamp\n",
        "        self.hash = self.get_hash()\n",
        "\n",
        "    @staticmethod\n",
        "    def create_genesis_block():\n",
        "        return(Block(\"0\", \"0\", datetime.datetime.now()))\n",
        "\n",
        "    def get_hash(self):\n",
        "        header = (str(self.previous_block_hash) +str(self.data) +str(self.timestamp))\n",
        "        inner_hash = hashlib.sha256(header.encode()).hexdigest().encode()\n",
        "        comp_hash = hashlib.sha256(inner_hash).hexdigest()\n",
        "        return comp_hash\n",
        "\n",
        "number_of_blocks = 14\n",
        "Blockchain = [Block.create_genesis_block()]\n",
        "print(\"Genesis Block is Created\")\n",
        "print(\"Hash: %s\" % Blockchain[0].hash)\n",
        "\n",
        "for i in range(1, number_of_blocks):\n",
        "    Blockchain.append(Block(Blockchain[i-1].hash,\"Block number %d\" %i, datetime.datetime.now()))\n",
        "    print(\"%d block created\" %i)\n",
        "    print(\"Hash: %s\" % Blockchain[-1].hash)"
      ],
      "metadata": {
        "colab": {
          "base_uri": "https://localhost:8080/"
        },
        "id": "pwkrWmd2XSQ9",
        "outputId": "9bdbb775-0fc4-489b-d90b-a9a9de5f9bf2"
      },
      "execution_count": null,
      "outputs": [
        {
          "output_type": "stream",
          "name": "stdout",
          "text": [
            "Genesis Block is Created\n",
            "Hash: 59b1e26abd56f572af8bbfb81024ea87e7eeddb6bccf5bc9046893e5a54a654c\n",
            "1 block created\n",
            "Hash: de3a373195ad12ac1947ca4a57b69b02aacd8f07bec134664ec6e12fddd334ff\n",
            "2 block created\n",
            "Hash: 3fc60c4f51f2d9cb7c97362941d9db80a71735a6e32fa76a109a0bd5edb0d296\n",
            "3 block created\n",
            "Hash: 65c48785175374687e613a5c282cace0e3baecdd3ddc8dc8b5936548e664b942\n",
            "4 block created\n",
            "Hash: 042d7b2e0efd3a9e0f515fe56e010676f6289b049bcfe9343b8767f04bd6330e\n",
            "5 block created\n",
            "Hash: ac6eac79ad5303d46f924795ec627f97b1909d05f9e75692758e8e764d068810\n",
            "6 block created\n",
            "Hash: 994297ef6b37bb5d15be412fbaf8b516b80cbc4b407a8a0602a4f83251a8701a\n",
            "7 block created\n",
            "Hash: 4914c2449d31102acd38fb84334de55137bda68a7d7a64e76c874775de0cbf5f\n",
            "8 block created\n",
            "Hash: cfae70999b7069af5304d6415e34aea0acbc895079b1af386885eaa56923e865\n",
            "9 block created\n",
            "Hash: 8716197841a12c56a900b14cdcdae492f2a7d7cb138f119b78f390803dfcd095\n",
            "10 block created\n",
            "Hash: 4fc6ed886fc0c9f1b95d5bdb87cd03ad8583245407ad1b42ab7b9b0b280ecd3c\n",
            "11 block created\n",
            "Hash: 54f370816c59f99f2c998ebcce6d2cd60cf1cc71ee4a933725a7c36354a1a21f\n",
            "12 block created\n",
            "Hash: 482ed528677253185f307f89e870cc9c21b759ceb44d95a2e8ca1a9c519bcc56\n",
            "13 block created\n",
            "Hash: 32089610658f4e474821d6b913566eaaf6a606b2e2be5b9db7fb5a29146a4eda\n"
          ]
        }
      ]
    }
  ]
}